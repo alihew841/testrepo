{
 "cells": [
  {
   "cell_type": "markdown",
   "id": "b0c6fb59-7bfc-483e-b6f7-0af854b689be",
   "metadata": {},
   "source": [
    "# Data Science Tools and Ecosystem"
   ]
  },
  {
   "cell_type": "markdown",
   "id": "2a4cf8e0-e91d-4b8b-902a-af1b43591ee3",
   "metadata": {},
   "source": [
    "In this notebook, Data Science Tools and Ecosystem are summarized."
   ]
  },
  {
   "cell_type": "markdown",
   "id": "245b83e3-52e8-4eb2-affe-c9bf1401fb47",
   "metadata": {},
   "source": [
    "## Objetives\n",
    "Review the following topics\n",
    "* Overview of Data Science Tools\n",
    "* List popular languages for Data Science\n",
    "* Libraries, APIs, Datasets and Models"
   ]
  },
  {
   "cell_type": "markdown",
   "id": "874bcdc4-50e9-4e93-a2ac-4f49f26ab875",
   "metadata": {},
   "source": [
    "Some of the popular languages that Data Scientists use are:\n",
    "1. python\n",
    "2. R\n",
    "3. "
   ]
  },
  {
   "cell_type": "markdown",
   "id": "b5d33364-e8c0-4b82-a9a7-fd1a80337918",
   "metadata": {},
   "source": [
    "Some of the commonly used libraries used by Data Scientists include:\n",
    "1. pandas\n",
    "2. Numpy\n",
    "3. SciPy"
   ]
  },
  {
   "cell_type": "markdown",
   "id": "0f8fd08c-a631-4a6a-9d47-c93e63757fbc",
   "metadata": {},
   "source": [
    "|Data Science Tools|\n",
    "|-------------------|\n",
    "|RStudio|\n",
    "|Apache|\n",
    "|TensorFlow|"
   ]
  },
  {
   "cell_type": "markdown",
   "id": "d488d56b-1ffd-4f5b-8a60-78a33e5cacea",
   "metadata": {},
   "source": [
    "### Below are a few examples of evaluating arithmetic expressions in Python"
   ]
  },
  {
   "cell_type": "code",
   "execution_count": 4,
   "id": "2ede6b05-2502-4a2d-812c-a6aa75ed156f",
   "metadata": {},
   "outputs": [
    {
     "data": {
      "text/plain": [
       "14"
      ]
     },
     "execution_count": 4,
     "metadata": {},
     "output_type": "execute_result"
    }
   ],
   "source": [
    "2*4+6"
   ]
  },
  {
   "cell_type": "code",
   "execution_count": 6,
   "id": "3952cfd2-fe95-4cd7-b7c6-d1e4e325405e",
   "metadata": {},
   "outputs": [
    {
     "data": {
      "text/plain": [
       "17"
      ]
     },
     "execution_count": 6,
     "metadata": {},
     "output_type": "execute_result"
    }
   ],
   "source": [
    "# This a simple arithmetic expression to mutiply then add integers\n",
    "(3*4)+5"
   ]
  },
  {
   "cell_type": "code",
   "execution_count": 7,
   "id": "591befe2-97a6-4a17-a4da-b9dc3875e4b0",
   "metadata": {},
   "outputs": [
    {
     "data": {
      "text/plain": [
       "3.3333333333333335"
      ]
     },
     "execution_count": 7,
     "metadata": {},
     "output_type": "execute_result"
    }
   ],
   "source": [
    "# This will convert 200 minutes to hours by diving by 60\n",
    "hs = 200/60\n",
    "hs"
   ]
  },
  {
   "cell_type": "markdown",
   "id": "dd7832f0-71b1-4afd-ab6a-d1efc750778c",
   "metadata": {},
   "source": [
    "## Author\n",
    "\n",
    "Angel Gerardo Napa Bernuy"
   ]
  }
 ],
 "metadata": {
  "kernelspec": {
   "display_name": "Python 3 (ipykernel)",
   "language": "python",
   "name": "python3"
  },
  "language_info": {
   "codemirror_mode": {
    "name": "ipython",
    "version": 3
   },
   "file_extension": ".py",
   "mimetype": "text/x-python",
   "name": "python",
   "nbconvert_exporter": "python",
   "pygments_lexer": "ipython3",
   "version": "3.12.8"
  }
 },
 "nbformat": 4,
 "nbformat_minor": 5
}
